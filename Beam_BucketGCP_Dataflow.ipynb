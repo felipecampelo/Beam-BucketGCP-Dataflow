{
  "nbformat": 4,
  "nbformat_minor": 0,
  "metadata": {
    "colab": {
      "name": "Beam-BucketGCP-Dataflow.ipynb",
      "provenance": [],
      "mount_file_id": "1BoczCa2MFsiGwen38wXNSaqhA0zcnuZd",
      "authorship_tag": "ABX9TyNHYw+eLMdMVXGRFMJjyY5c",
      "include_colab_link": true
    },
    "kernelspec": {
      "name": "python3",
      "display_name": "Python 3"
    },
    "language_info": {
      "name": "python"
    }
  },
  "cells": [
    {
      "cell_type": "markdown",
      "metadata": {
        "id": "view-in-github",
        "colab_type": "text"
      },
      "source": [
        "<a href=\"https://colab.research.google.com/github/felipecampelo/Beam-BucketGCP-Dataflow/blob/main/Beam_BucketGCP_Dataflow.ipynb\" target=\"_parent\"><img src=\"https://colab.research.google.com/assets/colab-badge.svg\" alt=\"Open In Colab\"/></a>"
      ]
    },
    {
      "cell_type": "markdown",
      "source": [
        "### ❗ Habilitando APIs necessárias no GCP ❗\n",
        "\n",
        "`Link`: [Enable APIs](https://console.cloud.google.com/flows/enableapi?apiid=dataflow,compute_component,logging,storage_component,storage_api,bigquery,pubsub,datastore.googleapis.com,cloudresourcemanager.googleapis.com&_ga=2.189426155.1983962144.1622827940-955197899.1622719217&_gac=1.221249130.1622828282.Cj0KCQjwnueFBhChARIsAPu3YkSUzoSQn7RE14ObAE51mBY111345EEps_OAYCDz3smm2mLh2zjZ__8aAq9dEALw_wcB&wdLOR=cFAD8FEBF-3295-4A46-A7CC-2BD1857695D0)\n",
        "\n",
        "▶ *Dataflow API*, *Compute Engine API*, *Cloud Logging API*, *Cloud Storage*, *Google Cloud Storage JSON API*, *BigQuery API*, *Cloud Pub/Sub API*, *Cloud Datastore API*, *Cloud Resource Manager API*"
      ],
      "metadata": {
        "id": "ZuVW5IgErfs5"
      }
    },
    {
      "cell_type": "markdown",
      "source": [
        "### ❗ Apache Beam ❗\n",
        "\n",
        "`Passo a passo para instalação do Apache Beam no Colab:`\n",
        "\n",
        "`1)` pip install --upgrade pip\n",
        "\n",
        "`2)` pip install apache-beam[interactive]\n",
        "\n",
        "`3)` Reiniciar ambiente de execução\n",
        "\n",
        "`4)` pip install apache-beam[gcp]\n",
        "\n",
        "`5)` Reiniciar ambiente de execução\n",
        "\n",
        "`6)` import apache_beam as beam\n",
        "\n",
        "`OBS: Nunca usar funções de exibição e gravação na mesma pipeline`"
      ],
      "metadata": {
        "id": "hbxQAuv7zIjh"
      }
    },
    {
      "cell_type": "code",
      "execution_count": null,
      "metadata": {
        "id": "-BP089O4y-PS"
      },
      "outputs": [],
      "source": [
        "# Necessário atualizar o pip para instalação do Beam\n",
        "!pip install --upgrade pip"
      ]
    },
    {
      "cell_type": "code",
      "source": [
        "# Instalando o apache-beam[interactive]\n",
        "!pip install apache-beam[interactive]"
      ],
      "metadata": {
        "id": "kdiKAjVHzAP4"
      },
      "execution_count": null,
      "outputs": []
    },
    {
      "cell_type": "code",
      "source": [
        "# Instalando o apache-beam[gcp]\n",
        "!pip install apache-beam[gcp]"
      ],
      "metadata": {
        "id": "m41Fs6vIzTWd"
      },
      "execution_count": null,
      "outputs": []
    },
    {
      "cell_type": "markdown",
      "source": [
        "###⚡ Criação do Modelo de Pipeline no Bucket do GCP ⚡"
      ],
      "metadata": {
        "id": "RSUGBakBC5fz"
      }
    },
    {
      "cell_type": "code",
      "source": [
        "# Importação de bibliotecas necessárias\n",
        "import apache_beam as beam\n",
        "import os\n",
        "from apache_beam.options.pipeline_options import PipelineOptions\n",
        "\n",
        "# Conectando com o service account do GCP\n",
        "serviceAccount = '/content/drive/MyDrive/KeysGCP/aulas-soulcode-felipe-1ab7e143ccf1.json'\n",
        "os.environ['GOOGLE_APPLICATION_CREDENTIALS'] = serviceAccount\n",
        "\n",
        "# Criando as configurações da Pipeline para conexão com o GCP\n",
        "pipeline_options = {\n",
        "    'project': 'aulas-soulcode-felipe', # ID do projeto do GCP\n",
        "    'runner': 'DataflowRunner', # Aplicação que irá rodar (Dataflow)\n",
        "    'region': 'southamerica-east1', # Região de preferência\n",
        "    'staging_location': 'gs://beam-soulcode/staging/', # Localização para arquivos em staging\n",
        "    'temp_location': 'gs://beam-soulcode/temp/', # Localização para arquivos temporários\n",
        "    'template_location': 'gs://beam-soulcode/models/modelo_batch' # Localização do modelo de Pipeline\n",
        "}\n",
        "\n",
        "# Transformando o dicionário para o tipo de PipelineOption\n",
        "pipeline_options = PipelineOptions.from_dictionary(pipeline_options)\n",
        "\n",
        "# Criando a Pipeline com as opções estabelecidas\n",
        "p1 = beam.Pipeline(options = pipeline_options)\n",
        "\n",
        "tempoAtraso = (\n",
        "    p1\n",
        "    |'Extrair do CSV' >> beam.io.ReadFromText('gs://beam-soulcode/DADOS/voos.csv', skip_header_lines = 1) # Lendo o CSV que está no bucket\n",
        "    |'Separador do CSV' >> beam.Map(lambda record: record.split(',')) # Definindo o separador do arquivo\n",
        "    |'Filtrar atrasos' >> beam.Filter(lambda record: float(record[8]) > 0) # Pegando apenas registros com atraso\n",
        "    |'Agregar as colunas' >> beam.Map(lambda record: (record[4], float(record[8]))) # Pegando apenas as colunas 4 e 8\n",
        "    |'Construir uma nova tabela por minuto' >> beam.CombinePerKey(sum) # Agrupando por chave e fazendo a soma\n",
        ")\n",
        "\n",
        "qtdAtraso = (\n",
        "    p1\n",
        "    |'1Extrair do CSV' >> beam.io.ReadFromText('gs://beam-soulcode/DADOS/voos.csv', skip_header_lines = 1) # Lendo o CSV que está no bucket\n",
        "    |'1Separador do CSV' >> beam.Map(lambda record: record.split(',')) # Definindo o separador do arquivo\n",
        "    |'1Filtrar atrasos' >> beam.Filter(lambda record: float(record[8]) > 0) # Pegando apenas registros com atraso\n",
        "    |'1Agregar as colunas' >> beam.Map(lambda record: (record[4], float(record[8]))) # Pegando apenas as colunas 4 e 8\n",
        "    |'1Construir uma nova tabela por contagem' >> beam.combiners.Count.PerKey() # Fazendo uma contagem de ocorrências\n",
        ")\n",
        "\n",
        "# A última pipeline não precisa do p1 (pernas) já que estamos juntando elas\n",
        "tabela = (\n",
        "    {'Quantidade_minutos': tempoAtraso, 'Numero_de_atrasos': qtdAtraso}\n",
        "    |'Agrupar as pernas' >> beam.CoGroupByKey()\n",
        "    |'Gravar o resultado' >> beam.io.WriteToText('gs://beam-soulcode/DADOS/Tratado/agregado', file_name_suffix = '.csv') # \"agregado\" é o nome dado ao arquivo com sufixo \".csv\"\n",
        ")\n",
        "\n",
        "# Executando as Pipelines\n",
        "p1.run()\n",
        "\n",
        "# OBS: O Pipeline não está sendo executado, o modelo está sendo armazenado no bucket do GCP.\n",
        "# Ao executar o modelo através do Dataflow no GCP, será gerado o arquivo tratado."
      ],
      "metadata": {
        "colab": {
          "base_uri": "https://localhost:8080/",
          "height": 107
        },
        "id": "W8OclG2sC-4f",
        "outputId": "958dcdc5-bae1-4901-e1fc-ccaa0127db22"
      },
      "execution_count": 3,
      "outputs": [
        {
          "output_type": "display_data",
          "data": {
            "text/plain": [
              "<IPython.core.display.HTML object>"
            ],
            "text/html": [
              "\n",
              "  <style>\n",
              "    div.alert {\n",
              "      white-space: pre-line;\n",
              "    }\n",
              "  </style>\n"
            ]
          },
          "metadata": {}
        },
        {
          "output_type": "display_data",
          "data": {
            "text/plain": [
              "<IPython.core.display.HTML object>"
            ],
            "text/html": [
              "\n",
              "            <link rel=\"stylesheet\" href=\"https://stackpath.bootstrapcdn.com/bootstrap/4.4.1/css/bootstrap.min.css\" integrity=\"sha384-Vkoo8x4CGsO3+Hhxv8T/Q5PaXtkKtu6ug5TOeNV6gBiFeWPGFN9MuhOf23Q9Ifjh\" crossorigin=\"anonymous\">\n",
              "            <div class=\"alert alert-info\">No cache_root detected. Defaulting to staging_location gs://beam-soulcode/staging/ for cache location.</div>"
            ]
          },
          "metadata": {}
        },
        {
          "output_type": "execute_result",
          "data": {
            "text/plain": [
              "<DataflowPipelineResult None at 0x7f1160851490>"
            ]
          },
          "metadata": {},
          "execution_count": 3
        }
      ]
    }
  ]
}